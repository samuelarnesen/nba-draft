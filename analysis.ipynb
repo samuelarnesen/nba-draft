{
 "cells": [
  {
   "cell_type": "code",
   "execution_count": 1,
   "metadata": {},
   "outputs": [],
   "source": [
    "import pickle"
   ]
  },
  {
   "cell_type": "code",
   "execution_count": 2,
   "metadata": {},
   "outputs": [],
   "source": [
    "with open(\"boards.p\", \"rb\") as f:\n",
    "    boards = pickle.load(f)\n",
    "with open(\"vorps.p\", \"rb\") as f:\n",
    "    vorps = pickle.load(f)"
   ]
  },
  {
   "cell_type": "code",
   "execution_count": 19,
   "metadata": {},
   "outputs": [],
   "source": [
    "espn_rankings = {}\n",
    "reverse_espn_rankings = {}\n",
    "for year in range(2005, 2016):\n",
    "    board_title = \"espn_{}\".format(year)\n",
    "    espn_rankings[year] = {}\n",
    "    reverse_espn_rankings[year] = {}\n",
    "    for player in boards[board_title]:\n",
    "        ranking, description = boards[board_title][player]\n",
    "        espn_rankings[year][player] = ranking\n",
    "        reverse_espn_rankings[year][ranking] = player"
   ]
  },
  {
   "cell_type": "code",
   "execution_count": 89,
   "metadata": {},
   "outputs": [],
   "source": [
    "def get_espn_ranking(min_draft_position=0, max_draft_position=60, start_year=2005, end_year=2015, one_year=None):\n",
    "    \n",
    "    if one_year != None:\n",
    "        start_year = one_year\n",
    "        end_year = start_year + 1\n",
    "        \n",
    "    espn_record = [0, 0]\n",
    "    for year in range(start_year, end_year+1):\n",
    "        for player_one in filter(lambda x: x in vorps[year], espn_rankings[year]):\n",
    "            draft_player_one_position, vorp_one_ranking, _ = vorps[year][player_one]\n",
    "            espn_player_one_ranking = espn_rankings[year][player_one]\n",
    "            if int(draft_player_one_position) not in range(min_draft_position, max_draft_position + 1):\n",
    "                if int(espn_player_one_ranking) not in range(min_draft_position, max_draft_position + 1):\n",
    "                    continue\n",
    "            for player_two in filter(lambda x: x != player_one and x in vorps[year], espn_rankings[year]):\n",
    "                draft_player_two_position, vorp_two_ranking, _ = vorps[year][player_two]\n",
    "                espn_player_two_ranking = espn_rankings[year][player_two]\n",
    "                if int(draft_player_two_position) not in range(min_draft_position, max_draft_position + 1):\n",
    "                    if int(espn_player_two_ranking) not in range(min_draft_position, max_draft_position + 1):\n",
    "                        continue\n",
    "                if espn_player_one_ranking < espn_player_two_ranking and draft_player_one_position > draft_player_two_position:\n",
    "                    espn_record[0 if vorp_one_ranking < vorp_two_ranking else 1] += 1\n",
    "                elif espn_player_one_ranking > espn_player_two_ranking and draft_player_one_position < draft_player_two_position:\n",
    "                    espn_record[0 if vorp_one_ranking > vorp_two_ranking else 1] += 1\n",
    "    return round(espn_record[0] * 100 / (espn_record[0] + espn_record[1]), 2), (espn_record[0] + espn_record[1])"
   ]
  },
  {
   "cell_type": "code",
   "execution_count": 101,
   "metadata": {},
   "outputs": [
    {
     "data": {
      "text/plain": [
       "(53.46, 868)"
      ]
     },
     "execution_count": 101,
     "metadata": {},
     "output_type": "execute_result"
    }
   ],
   "source": [
    "get_espn_ranking(min_draft_position=0, max_draft_position=30, start_year=2011)"
   ]
  },
  {
   "cell_type": "code",
   "execution_count": null,
   "metadata": {},
   "outputs": [],
   "source": []
  },
  {
   "cell_type": "code",
   "execution_count": null,
   "metadata": {},
   "outputs": [],
   "source": []
  }
 ],
 "metadata": {
  "kernelspec": {
   "display_name": "Python 3",
   "language": "python",
   "name": "python3"
  },
  "language_info": {
   "codemirror_mode": {
    "name": "ipython",
    "version": 3
   },
   "file_extension": ".py",
   "mimetype": "text/x-python",
   "name": "python",
   "nbconvert_exporter": "python",
   "pygments_lexer": "ipython3",
   "version": "3.6.5"
  }
 },
 "nbformat": 4,
 "nbformat_minor": 2
}
